{
  "nbformat": 4,
  "nbformat_minor": 0,
  "metadata": {
    "colab": {
      "name": "Knn_c",
      "provenance": [],
      "authorship_tag": "ABX9TyMBnXUkK2FOFhm3f3Em4PYC",
      "include_colab_link": true
    },
    "kernelspec": {
      "name": "python3",
      "display_name": "Python 3"
    },
    "language_info": {
      "name": "python"
    }
  },
  "cells": [
    {
      "cell_type": "markdown",
      "metadata": {
        "id": "view-in-github",
        "colab_type": "text"
      },
      "source": [
        "<a href=\"https://colab.research.google.com/github/ilkersenturk/DataScience/blob/main/K-Nearest%20Neighboripynb\" target=\"_parent\"><img src=\"https://colab.research.google.com/assets/colab-badge.svg\" alt=\"Open In Colab\"/></a>"
      ]
    },
    {
      "cell_type": "code",
      "metadata": {
        "id": "WGvdHXNGLf7P"
      },
      "source": [
        "import math \n",
        "# calculate manhattan distance\n",
        "def manhattan(X1,X2):\n",
        "  return sum(abs(e1-e2) for e1,e2 in zip(X1,X2))\n",
        "\n",
        "############################################################\n",
        "# calculate euclidian distance\n",
        "def euclidian(X1,X2):\n",
        "  return math.sqrt(sum((e1-e2)**2 for e1, e2 in zip(X1,X2)))\n",
        "\n",
        "\n",
        "############################################################\n",
        "# calculate minkowski distance\n",
        "def minkowski_distance(a, b, p):\n",
        "\treturn sum(abs(e1-e2)**p for e1, e2 in zip(a,b))**(1/p)\n",
        " \n",
        "############################################################\n",
        "def square_rooted(x):\n",
        "    return round(math.sqrt(sum([a*a for a in x])),3)\n",
        "def cosine_similarity(x,y):\n",
        "  numerator = sum(a*b for a,b in zip(x,y))\n",
        "  denominator = square_rooted(x)*square_rooted(y)\n",
        "  return round(numerator/float(denominator),3)\n",
        "\n",
        "############################################################\n",
        " # calculate hammjaccard similarity\n",
        "def jaccard_similarity(x,y):\n",
        "    intersection_cardinality = len(set.intersection(*[set(x), set(y)]))\n",
        "    union_cardinality = len(set.union(*[set(x), set(y)]))\n",
        "    return intersection_cardinality/float(union_cardinality)\n",
        "\n",
        "############################################################\n",
        "def levenshtein(s, t):\n",
        "  ''' From Wikipedia article; Iterative with two matrix rows. '''\n",
        "  if s == t: return 0\n",
        "  elif len(s) == 0: return len(t)\n",
        "  elif len(t) == 0: return len(s)\n",
        "  v0 = [None] * (len(t) + 1)\n",
        "  v1 = [None] * (len(t) + 1)\n",
        "  for i in range(len(v0)):\n",
        "      v0[i] = i\n",
        "  for i in range(len(s)):\n",
        "      v1[0] = i + 1\n",
        "      for j in range(len(t)):\n",
        "          cost = 0 if s[i] == t[j] else 1\n",
        "          v1[j + 1] = min(v1[j] + 1, v0[j + 1] + 1, v0[j] + cost)\n",
        "      for j in range(len(v0)):\n",
        "          v0[j] = v1[j]\n",
        "          \n",
        "  return v1[len(t)]\n",
        "\n",
        "\n",
        "############################################################\n",
        "# calculate hammingDistance distance\n",
        "def hammingDistance(X1,X2):\n",
        "  pass"
      ],
      "execution_count": 37,
      "outputs": []
    },
    {
      "cell_type": "code",
      "metadata": {
        "id": "prdqn0tpL19v"
      },
      "source": [
        "import numpy as np\n",
        "from collections import Counter\n",
        "\n",
        "\n",
        "\n",
        "class KNN:\n",
        "  '''\n",
        "  check the distance betwen x and every X i \n",
        "  sort for k instances\n",
        "  vote the classes \n",
        "  return the majority \n",
        "  \n",
        "  '''\n",
        "  def __init__(self, k=3 , distanceMethod = euclidian):\n",
        "      self.k = k\n",
        "      self.distanceMethod = distanceMethod\n",
        "\n",
        "  def fit(self, X, y):\n",
        "      self.X_train = X\n",
        "      self.y_train = y\n",
        "\n",
        "  def predict(self, X):\n",
        "      y_pred = [self._predict(x) for x in X]\n",
        "      return np.array(y_pred)\n",
        "\n",
        "  def _predict(self, x):\n",
        "      # Compute distances between x and all examples in the training set\n",
        "      distances = [self.distanceMethod(x, x_train) for x_train in self.X_train]\n",
        "      # Sort by distance and return indices of the first k neighbors\n",
        "      k_idx = np.argsort(distances)[:self.k]\n",
        "      # Extract the labels of the k nearest neighbor training samples\n",
        "      k_neighbor_labels = [self.y_train[i] for i in k_idx]  \n",
        "      # return the most common class label\n",
        "      most_common = Counter(k_neighbor_labels).most_common(1)\n",
        "      return most_common[0][0]"
      ],
      "execution_count": 4,
      "outputs": []
    },
    {
      "cell_type": "code",
      "metadata": {
        "colab": {
          "base_uri": "https://localhost:8080/",
          "height": 52
        },
        "id": "WKvpH2_EOUKY",
        "outputId": "a6a0432a-03c4-4488-80ed-be1ee9f19477"
      },
      "source": [
        "import numpy as np\n",
        "from sklearn import datasets\n",
        "\n",
        "def accuracy(y_true, y_pred):\n",
        "    accuracy = np.sum(y_true == y_pred) / len(y_true)\n",
        "    return accuracy\n",
        "\n",
        "\n",
        "iris = datasets.load_iris()\n",
        "X, y = iris.data, iris.target\n",
        "\n",
        "\n",
        "'''The training phase of K-nearest neighbor classification is much faster compared to other classification algorithms.\n",
        "   There is no need to train a model for generalization,\n",
        "   That is why KNN is known as the simple and instance-based learning algorithm.\n",
        "   KNN can be useful in case of nonlinear data.'''\n",
        "\n",
        "# we do no need to split data for trainig and test"
      ],
      "execution_count": 5,
      "outputs": [
        {
          "output_type": "execute_result",
          "data": {
            "application/vnd.google.colaboratory.intrinsic+json": {
              "type": "string"
            },
            "text/plain": [
              "'The training phase of K-nearest neighbor classification is much faster compared to other classification algorithms.\\n   There is no need to train a model for generalization,\\n   That is why KNN is known as the simple and instance-based learning algorithm.\\n   KNN can be useful in case of nonlinear data.'"
            ]
          },
          "metadata": {
            "tags": []
          },
          "execution_count": 5
        }
      ]
    },
    {
      "cell_type": "code",
      "metadata": {
        "colab": {
          "base_uri": "https://localhost:8080/"
        },
        "id": "r_7ozm2NQ4Oz",
        "outputId": "9a20f723-6130-4f04-badc-c6c006c84f84"
      },
      "source": [
        "# Inspect data\n",
        "\n",
        "print(X.shape)\n",
        "print(X[0])"
      ],
      "execution_count": 6,
      "outputs": [
        {
          "output_type": "stream",
          "text": [
            "(150, 4)\n",
            "[5.1 3.5 1.4 0.2]\n"
          ],
          "name": "stdout"
        }
      ]
    },
    {
      "cell_type": "code",
      "metadata": {
        "colab": {
          "base_uri": "https://localhost:8080/"
        },
        "id": "_5CzaTg7RC8N",
        "outputId": "c5ade07f-0c7a-46cd-8e5e-d8fb6aa096db"
      },
      "source": [
        "print(y.shape)\n",
        "print(y)"
      ],
      "execution_count": 7,
      "outputs": [
        {
          "output_type": "stream",
          "text": [
            "(150,)\n",
            "[0 0 0 0 0 0 0 0 0 0 0 0 0 0 0 0 0 0 0 0 0 0 0 0 0 0 0 0 0 0 0 0 0 0 0 0 0\n",
            " 0 0 0 0 0 0 0 0 0 0 0 0 0 1 1 1 1 1 1 1 1 1 1 1 1 1 1 1 1 1 1 1 1 1 1 1 1\n",
            " 1 1 1 1 1 1 1 1 1 1 1 1 1 1 1 1 1 1 1 1 1 1 1 1 1 1 2 2 2 2 2 2 2 2 2 2 2\n",
            " 2 2 2 2 2 2 2 2 2 2 2 2 2 2 2 2 2 2 2 2 2 2 2 2 2 2 2 2 2 2 2 2 2 2 2 2 2\n",
            " 2 2]\n"
          ],
          "name": "stdout"
        }
      ]
    },
    {
      "cell_type": "code",
      "metadata": {
        "colab": {
          "base_uri": "https://localhost:8080/",
          "height": 592
        },
        "id": "IWH6_cJBRC_J",
        "outputId": "9088518c-9766-474f-d802-da7cc86626d0"
      },
      "source": [
        "import matplotlib.pyplot as plt\n",
        "from matplotlib.colors import ListedColormap\n",
        "cmap = ListedColormap(['#FF0000', '#00F000', '#000FFF'])\n",
        "\n",
        "\n",
        "\n",
        "plt.figure(figsize=(16,10))\n",
        "plt.scatter(X[:, 0], X[:, 1], c=y,  cmap=cmap, edgecolor='k', s=80)\n",
        "plt.show()\n"
      ],
      "execution_count": 8,
      "outputs": [
        {
          "output_type": "display_data",
          "data": {
            "image/png": "[encoded data removed]",
            "text/plain": [
              "<Figure size 1152x720 with 1 Axes>"
            ]
          },
          "metadata": {
            "tags": [],
            "needs_background": "light"
          }
        }
      ]
    },
    {
      "cell_type": "code",
      "metadata": {
        "colab": {
          "base_uri": "https://localhost:8080/"
        },
        "id": "WsKkdCscQ4RR",
        "outputId": "75ada6c3-9469-404e-d2b8-f9f3a6c74536"
      },
      "source": [
        "\n",
        "k = 5\n",
        "clf = KNN(k=k, distanceMethod=manhattan)\n",
        "clf.fit(X, y)\n",
        "predictions = clf.predict(X)\n",
        "print(\"custom KNN classification accuracy\", accuracy(y, predictions))"
      ],
      "execution_count": 18,
      "outputs": [
        {
          "output_type": "stream",
          "text": [
            "custom KNN classification accuracy 0.9666666666666667\n"
          ],
          "name": "stdout"
        }
      ]
    },
    {
      "cell_type": "markdown",
      "metadata": {
        "id": "UmOKESjyZRrE"
      },
      "source": [
        "#        Pros & Cons\n",
        "\n",
        "  1.   Non-parametric\n",
        "  2.    Non-Linear Performance\n",
        "  3.   Versatility\n",
        "\n",
        "\n",
        "  1.   K-NN slow algorithm\n",
        "  2.   Curse of Dimensionality\n",
        "  3.   Optimal number of neighbors:\n",
        "  4.   Imbalanced data causes problems\n",
        "  5.   Outlier sensitivity:\n",
        "  6.  Missing Value treatment\n",
        "\n"
      ]
    },
    {
      "cell_type": "code",
      "metadata": {
        "id": "g9W1HCiva2-1"
      },
      "source": [
        ""
      ],
      "execution_count": null,
      "outputs": []
    }
  ]
}