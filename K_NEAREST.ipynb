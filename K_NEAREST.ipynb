{
  "nbformat": 4,
  "nbformat_minor": 0,
  "metadata": {
    "colab": {
      "name": "K-NEAREST",
      "provenance": [],
      "collapsed_sections": []
    },
    "kernelspec": {
      "name": "python3",
      "display_name": "Python 3"
    }
  },
  "cells": [
    {
      "cell_type": "code",
      "metadata": {
        "id": "1zaGWTrXkNBK"
      },
      "source": [
        "import numpy as np\n",
        "\n",
        "\n",
        "'''\n",
        "    Idea is create an method where takes DataSequence, DataPoint , char (represents distance function), R or C (regression, classification)\n",
        "\n",
        "    DataSequence =. (x1,x2,x3,x4,.....xn)\n",
        "    Labels = (y1,y2 ..ym)  \n",
        "    dataPoint.  = x\n",
        "    distance Method Name  = 'E' , 'T' Euclidian distance,  Manhattan Distance , Tanjant Distance \n",
        "    Model = C, R , classification or Regression\n",
        "    K = number of neighboors\n",
        "'''\n",
        "\n",
        "from math import*\n",
        "# calculate manhattan distance\n",
        "def manhattan(X1,X2):\n",
        "  return sum(abs(e1-e2) for e1,e2 in zip(X1,X2))\n",
        "\n",
        "# calculate euclidian distance\n",
        "from math import sqrt\n",
        "def euclidian(X1,X2):\n",
        "  return sqrt(sum((e1-e2)**2 for e1, e2 in zip(X1,X2)))\n",
        "\n",
        "# calculate hammingDistance distance\n",
        "def hammingDistance(X1,X2):\n",
        "  return sum(abs(e1-e2) for e1, e2 in zip(X1,X2))/len(X1)\n",
        "\n",
        "# calculate minkowski distance\n",
        "def minkowski_distance(a, b, p):\n",
        "\treturn sum(abs(e1-e2)**p for e1, e2 in zip(a,b))**(1/p)\n",
        "\n",
        "# calcualte Cosine distance\n",
        "from math import*\n",
        " \n",
        "def square_rooted(x):\n",
        " \n",
        "    return round(sqrt(sum([a*a for a in x])),3)\n",
        " \n",
        "def cosine_similarity(x,y):\n",
        "  numerator = sum(a*b for a,b in zip(x,y))\n",
        "  denominator = square_rooted(x)*square_rooted(y)\n",
        "  return round(numerator/float(denominator),3)\n",
        "\n",
        " \n",
        "def jaccard_similarity(x,y):\n",
        " \n",
        "    intersection_cardinality = len(set.intersection(*[set(x), set(y)]))\n",
        "    union_cardinality = len(set.union(*[set(x), set(y)]))\n",
        "    return intersection_cardinality/float(union_cardinality)\n",
        "\n",
        "# Locate the most similar neighbors\n",
        "def get_neighbors(Dataset, dataPoint,distanceMethod):\n",
        "\n",
        "\n",
        "  num_neighbors = math.floor(sqrt(len(Dataset)))\n",
        "  distances = list()\n",
        "  neighbors = list()\n",
        "  for i in range(len(Dataset)):\n",
        "\n",
        "    feature = Dataset[i][:-1]\n",
        "    label = Dataset[i][-1]\n",
        "    \n",
        "    dist = distanceMethod(feature, dataPoint)\n",
        "\n",
        "    distances.append((label, dist))\n",
        "    distances.sort(key=lambda tup: tup[1])\n",
        "\n",
        "  for i in range(num_neighbors):\n",
        "    neighbors.append((distances[i][0]))\n",
        "  return neighbors\n",
        "\n",
        "\n",
        "def vote(neighboors):\n",
        "  return max(set(neighboors), key = neighboors.count) \n",
        "def knn(Dataset, Labels, dataPoint, distanceMehtod, Model):\n",
        "\n",
        "  distances = [ ]\n",
        "\n",
        "\n",
        "\n",
        "\n",
        "\n",
        "\n",
        "\n"
      ],
      "execution_count": 100,
      "outputs": []
    },
    {
      "cell_type": "code",
      "metadata": {
        "id": "plY0f_iel3uu"
      },
      "source": [
        "dataset = [[2.7810836,2.550537003,0],\n",
        "\t[1.465489372,2.362125076,0],\n",
        "\t[3.396561688,4.400293529,0],\n",
        "\t[1.38807019,1.850220317,0],\n",
        "\t[3.06407232,3.005305973,0],\n",
        "\t[7.627531214,2.759262235,1],\n",
        "\t[5.332441248,2.088626775,1],\n",
        "\t[6.922596716,1.77106367,1],\n",
        "\t[8.675418651,-0.242068655,1],\n",
        "\t[7.673756466,3.508563011,1]]"
      ],
      "execution_count": 101,
      "outputs": []
    },
    {
      "cell_type": "code",
      "metadata": {
        "colab": {
          "base_uri": "https://localhost:8080/"
        },
        "id": "aIIR43Zgl-nS",
        "outputId": "222e0301-ee2c-42fe-b20e-9cb309b08892"
      },
      "source": [
        "get_neighbors(dataset,[5.2,2.7], euclidian)\n",
        "\n",
        "vote(get_neighbors(dataset,[5.2,2.7], euclidian))"
      ],
      "execution_count": 102,
      "outputs": [
        {
          "output_type": "execute_result",
          "data": {
            "text/plain": [
              "1"
            ]
          },
          "metadata": {
            "tags": []
          },
          "execution_count": 102
        }
      ]
    },
    {
      "cell_type": "code",
      "metadata": {
        "colab": {
          "base_uri": "https://localhost:8080/",
          "height": 164
        },
        "id": "sKemiHR-zZYa",
        "outputId": "14ab60c8-5312-493c-dcbc-94ded262a956"
      },
      "source": [
        ""
      ],
      "execution_count": 103,
      "outputs": [
        {
          "output_type": "error",
          "ename": "TypeError",
          "evalue": "ignored",
          "traceback": [
            "\u001b[0;31m---------------------------------------------------------------------------\u001b[0m",
            "\u001b[0;31mTypeError\u001b[0m                                 Traceback (most recent call last)",
            "\u001b[0;32m<ipython-input-103-dde035b07c9c>\u001b[0m in \u001b[0;36m<module>\u001b[0;34m()\u001b[0m\n\u001b[0;32m----> 1\u001b[0;31m \u001b[0mplt\u001b[0m\u001b[0;34m.\u001b[0m\u001b[0mscatter\u001b[0m\u001b[0;34m(\u001b[0m\u001b[0mdataset\u001b[0m\u001b[0;34m)\u001b[0m\u001b[0;34m\u001b[0m\u001b[0;34m\u001b[0m\u001b[0m\n\u001b[0m",
            "\u001b[0;31mTypeError\u001b[0m: scatter() missing 1 required positional argument: 'y'"
          ]
        }
      ]
    },
    {
      "cell_type": "code",
      "metadata": {
        "id": "XwPAlT9MzfqP"
      },
      "source": [
        ""
      ],
      "execution_count": null,
      "outputs": []
    }
  ]
}